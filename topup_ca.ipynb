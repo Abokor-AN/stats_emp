{
 "cells": [
  {
   "cell_type": "code",
   "execution_count": 1,
   "id": "initial_id",
   "metadata": {
    "collapsed": true,
    "ExecuteTime": {
     "end_time": "2024-01-13T18:37:59.794775100Z",
     "start_time": "2024-01-13T18:37:59.135755100Z"
    }
   },
   "outputs": [],
   "source": [
    "import pandas as pd"
   ]
  },
  {
   "cell_type": "code",
   "outputs": [],
   "source": [
    "df = pd.read_csv('2023-filter-emp.csv', header=None, sep=';')"
   ],
   "metadata": {
    "collapsed": false,
    "ExecuteTime": {
     "end_time": "2024-01-13T18:38:00.417532100Z",
     "start_time": "2024-01-13T18:37:59.798646800Z"
    }
   },
   "id": "afacaf2050af3951",
   "execution_count": 2
  },
  {
   "cell_type": "code",
   "outputs": [],
   "source": [
    "df[['2.1', '2.2']] = df[2].str.split('#', expand=True)"
   ],
   "metadata": {
    "collapsed": false,
    "ExecuteTime": {
     "end_time": "2024-01-13T18:38:00.774646400Z",
     "start_time": "2024-01-13T18:38:00.421788800Z"
    }
   },
   "id": "db45b931f73eef7f",
   "execution_count": 3
  },
  {
   "cell_type": "code",
   "outputs": [
    {
     "data": {
      "text/plain": "        0   1                      2                3  4                5  \\\n0  879267   4  21365220#GIGASUP_10GO  01/01/2023 0:00  1  01/01/2023 0:00   \n1  879279  55    25327426510#20000.0  01/01/2023 0:02  1  01/01/2023 0:02   \n2  879280  55    25327426092#10000.0  01/01/2023 0:02  1  01/01/2023 0:02   \n3  879281  55    25321357288#15000.0  01/01/2023 0:02  1  01/01/2023 0:02   \n4  879282  55    25321340664#15000.0  01/01/2023 0:02  1  01/01/2023 0:02   \n\n                                     6            7  8  9 10        11  12  \\\n0  Opération effectué avec success !!!  25377628519  0  1  S  Thread 0   5   \n1  Opération effectué avec success !!!            0  0  1  S  Thread 3   5   \n2  Opération effectué avec success !!!            0  0  1  S  Thread 4   5   \n3  Opération effectué avec success !!!            0  0  1  S  Thread 2   5   \n4  Opération effectué avec success !!!            0  0  1  S  Thread 0   5   \n\n    13            14       15  16     17          2.1           2.2  \n0  550  10.11.24.150  USSDUSR NaN  False     21365220  GIGASUP_10GO  \n1    0    10.11.22.8    topup NaN  False  25327426510       20000.0  \n2    0    10.11.22.8    topup NaN  False  25327426092       10000.0  \n3    0    10.11.22.8    topup NaN  False  25321357288       15000.0  \n4    0    10.11.22.8    topup NaN  False  25321340664       15000.0  ",
      "text/html": "<div>\n<style scoped>\n    .dataframe tbody tr th:only-of-type {\n        vertical-align: middle;\n    }\n\n    .dataframe tbody tr th {\n        vertical-align: top;\n    }\n\n    .dataframe thead th {\n        text-align: right;\n    }\n</style>\n<table border=\"1\" class=\"dataframe\">\n  <thead>\n    <tr style=\"text-align: right;\">\n      <th></th>\n      <th>0</th>\n      <th>1</th>\n      <th>2</th>\n      <th>3</th>\n      <th>4</th>\n      <th>5</th>\n      <th>6</th>\n      <th>7</th>\n      <th>8</th>\n      <th>9</th>\n      <th>10</th>\n      <th>11</th>\n      <th>12</th>\n      <th>13</th>\n      <th>14</th>\n      <th>15</th>\n      <th>16</th>\n      <th>17</th>\n      <th>2.1</th>\n      <th>2.2</th>\n    </tr>\n  </thead>\n  <tbody>\n    <tr>\n      <th>0</th>\n      <td>879267</td>\n      <td>4</td>\n      <td>21365220#GIGASUP_10GO</td>\n      <td>01/01/2023 0:00</td>\n      <td>1</td>\n      <td>01/01/2023 0:00</td>\n      <td>Opération effectué avec success !!!</td>\n      <td>25377628519</td>\n      <td>0</td>\n      <td>1</td>\n      <td>S</td>\n      <td>Thread 0</td>\n      <td>5</td>\n      <td>550</td>\n      <td>10.11.24.150</td>\n      <td>USSDUSR</td>\n      <td>NaN</td>\n      <td>False</td>\n      <td>21365220</td>\n      <td>GIGASUP_10GO</td>\n    </tr>\n    <tr>\n      <th>1</th>\n      <td>879279</td>\n      <td>55</td>\n      <td>25327426510#20000.0</td>\n      <td>01/01/2023 0:02</td>\n      <td>1</td>\n      <td>01/01/2023 0:02</td>\n      <td>Opération effectué avec success !!!</td>\n      <td>0</td>\n      <td>0</td>\n      <td>1</td>\n      <td>S</td>\n      <td>Thread 3</td>\n      <td>5</td>\n      <td>0</td>\n      <td>10.11.22.8</td>\n      <td>topup</td>\n      <td>NaN</td>\n      <td>False</td>\n      <td>25327426510</td>\n      <td>20000.0</td>\n    </tr>\n    <tr>\n      <th>2</th>\n      <td>879280</td>\n      <td>55</td>\n      <td>25327426092#10000.0</td>\n      <td>01/01/2023 0:02</td>\n      <td>1</td>\n      <td>01/01/2023 0:02</td>\n      <td>Opération effectué avec success !!!</td>\n      <td>0</td>\n      <td>0</td>\n      <td>1</td>\n      <td>S</td>\n      <td>Thread 4</td>\n      <td>5</td>\n      <td>0</td>\n      <td>10.11.22.8</td>\n      <td>topup</td>\n      <td>NaN</td>\n      <td>False</td>\n      <td>25327426092</td>\n      <td>10000.0</td>\n    </tr>\n    <tr>\n      <th>3</th>\n      <td>879281</td>\n      <td>55</td>\n      <td>25321357288#15000.0</td>\n      <td>01/01/2023 0:02</td>\n      <td>1</td>\n      <td>01/01/2023 0:02</td>\n      <td>Opération effectué avec success !!!</td>\n      <td>0</td>\n      <td>0</td>\n      <td>1</td>\n      <td>S</td>\n      <td>Thread 2</td>\n      <td>5</td>\n      <td>0</td>\n      <td>10.11.22.8</td>\n      <td>topup</td>\n      <td>NaN</td>\n      <td>False</td>\n      <td>25321357288</td>\n      <td>15000.0</td>\n    </tr>\n    <tr>\n      <th>4</th>\n      <td>879282</td>\n      <td>55</td>\n      <td>25321340664#15000.0</td>\n      <td>01/01/2023 0:02</td>\n      <td>1</td>\n      <td>01/01/2023 0:02</td>\n      <td>Opération effectué avec success !!!</td>\n      <td>0</td>\n      <td>0</td>\n      <td>1</td>\n      <td>S</td>\n      <td>Thread 0</td>\n      <td>5</td>\n      <td>0</td>\n      <td>10.11.22.8</td>\n      <td>topup</td>\n      <td>NaN</td>\n      <td>False</td>\n      <td>25321340664</td>\n      <td>15000.0</td>\n    </tr>\n  </tbody>\n</table>\n</div>"
     },
     "execution_count": 4,
     "metadata": {},
     "output_type": "execute_result"
    }
   ],
   "source": [
    "df.head()"
   ],
   "metadata": {
    "collapsed": false,
    "ExecuteTime": {
     "end_time": "2024-01-13T18:38:00.826845700Z",
     "start_time": "2024-01-13T18:38:00.783183200Z"
    }
   },
   "id": "6d759c7815359e97",
   "execution_count": 4
  },
  {
   "cell_type": "code",
   "outputs": [],
   "source": [
    "df.to_csv(\"2023-filter.csv\")"
   ],
   "metadata": {
    "collapsed": false,
    "ExecuteTime": {
     "end_time": "2024-01-13T18:48:34.974891100Z",
     "start_time": "2024-01-13T18:48:33.288052500Z"
    }
   },
   "id": "76c130c318001cd5",
   "execution_count": 7
  },
  {
   "cell_type": "code",
   "outputs": [
    {
     "name": "stdout",
     "output_type": "stream",
     "text": [
      "       mois        13\n",
      "0   2023-01  18351807\n",
      "1   2023-02  16598990\n",
      "2   2023-03  18388695\n",
      "3   2023-04  17674465\n",
      "4   2023-05  17482760\n",
      "5   2023-06  16861495\n",
      "6   2023-07  14913630\n",
      "7   2023-08  14686575\n",
      "8   2023-09  14637442\n",
      "9   2023-10  15852725\n",
      "10  2023-11  15451515\n",
      "11  2023-12  15872520\n"
     ]
    }
   ],
   "source": [
    "# Copie d'un dataframe\n",
    "dfs = df.copy()\n",
    "\n",
    "# Convertir la colonne 'date' en format de datetime\n",
    "dfs['date'] = pd.to_datetime(dfs[3], format='%d/%m/%Y %H:%M')\n",
    "\n",
    "# Extraire le mois de la colonne 'date' et créer une nouvelle colonne 'mois'\n",
    "dfs['mois'] = dfs['date'].dt.to_period('M')\n",
    "\n",
    "# Regrouper par mois et faire la somme de la colonne 'fee'\n",
    "resultat = dfs.groupby('mois')[13].sum().reset_index()\n",
    "\n",
    "# Afficher le résultat\n",
    "print(resultat)"
   ],
   "metadata": {
    "collapsed": false,
    "ExecuteTime": {
     "end_time": "2024-01-13T18:38:01.554458500Z",
     "start_time": "2024-01-13T18:38:00.825852800Z"
    }
   },
   "id": "fe7352120b2c47b6",
   "execution_count": 5
  },
  {
   "cell_type": "code",
   "outputs": [
    {
     "name": "stdout",
     "output_type": "stream",
     "text": [
      "<class 'pandas.core.frame.DataFrame'>\n"
     ]
    }
   ],
   "source": [
    "print(type(resultat))"
   ],
   "metadata": {
    "collapsed": false,
    "ExecuteTime": {
     "end_time": "2024-01-13T18:38:01.599666100Z",
     "start_time": "2024-01-13T18:38:01.557961300Z"
    }
   },
   "id": "210a599c7f649949",
   "execution_count": 6
  }
 ],
 "metadata": {
  "kernelspec": {
   "display_name": "Python 3",
   "language": "python",
   "name": "python3"
  },
  "language_info": {
   "codemirror_mode": {
    "name": "ipython",
    "version": 2
   },
   "file_extension": ".py",
   "mimetype": "text/x-python",
   "name": "python",
   "nbconvert_exporter": "python",
   "pygments_lexer": "ipython2",
   "version": "2.7.6"
  }
 },
 "nbformat": 4,
 "nbformat_minor": 5
}
